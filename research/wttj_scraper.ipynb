{
 "cells": [
  {
   "cell_type": "code",
   "execution_count": null,
   "metadata": {},
   "outputs": [],
   "source": [
    "import time\n",
    "from random import randint\n",
    "from selenium import webdriver\n",
    "from selenium.webdriver.common.by import By\n",
    "from selenium.webdriver.common.keys import Keys\n",
    "from selenium.webdriver.chrome.service import Service\n",
    "from selenium.webdriver.chrome.options import Options\n",
    "from webdriver_manager.chrome import ChromeDriverManager\n",
    "from selenium.webdriver.support import expected_conditions as EC\n",
    "from selenium.webdriver.support.wait import WebDriverWait\n",
    "\n",
    "job = \"Data scientist\"\n",
    "page = \"2\"\n",
    "city = \"Paris\"\n",
    "\n",
    "\n",
    "\n",
    "path = f\"https://www.welcometothejungle.com/fr/jobs?refinementList%5Boffices.country_code%5D%5B%5D=FR&query={job}&page=1&aroundQuery={city}\"\n",
    "# Initialiser le WebDriver (ici, avec Chrome)\n",
    "opts = Options()\n",
    "opts.add_argument(\"--headless\")\n",
    "service = Service(executable_path=ChromeDriverManager().install())\n",
    "driver = webdriver.Chrome(service=service, options=opts)"
   ]
  },
  {
   "cell_type": "markdown",
   "metadata": {},
   "source": [
    "### Job number element"
   ]
  },
  {
   "cell_type": "code",
   "execution_count": 49,
   "metadata": {},
   "outputs": [
    {
     "name": "stdout",
     "output_type": "stream",
     "text": [
      "<class 'str'>\n",
      "<class 'int'>\n"
     ]
    }
   ],
   "source": [
    "try: \n",
    "    driver = webdriver.Chrome(service=service, options=opts)\n",
    "    driver.get(path)\n",
    "    job_number_element = WebDriverWait(driver, 10).until(\n",
    "        EC.presence_of_element_located((By.CSS_SELECTOR, \"div[data-testid='jobs-search-results-count']\"))\n",
    "    )\n",
    "    print(type(job_number_element.text))\n",
    "    job_number = int(job_number_element.text)\n",
    "    print(job_number)\n",
    "except Exception as e:\n",
    "    print(f\"Une erreur s'est produite: {e}\")\n",
    "finally:\n",
    "    driver.quit()\n"
   ]
  },
  {
   "cell_type": "markdown",
   "metadata": {},
   "source": [
    "### Navigating through pages"
   ]
  },
  {
   "cell_type": "code",
   "execution_count": 126,
   "metadata": {},
   "outputs": [
    {
     "name": "stdout",
     "output_type": "stream",
     "text": [
      "- Number of open positions : 386\n",
      "- Number of pages to be crawled : 14\n"
     ]
    }
   ],
   "source": [
    "try: \n",
    "    driver = webdriver.Chrome(service=service)\n",
    "    driver.get(path)\n",
    "\n",
    "    # Obtenir le nombre d'offres d'emploi disponibles\n",
    "    job_number_element = WebDriverWait(driver,10).until(\n",
    "        EC.presence_of_element_located((By.CSS_SELECTOR, \"div[data-testid='jobs-search-results-count']\"))\n",
    "        )\n",
    "    job_number = int(job_number_element.text.split(\" \", 1)[0])\n",
    "    print(f\"- Number of open positions : {job_number}\")\n",
    "    # Calculer le nombre de pages à parcourir\n",
    "    exact_page_number = job_number / 30\n",
    "    minimum_page_number = job_number // 30\n",
    "    page_number = minimum_page_number + 2 if exact_page_number > minimum_page_number else minimum_page_number + 1\n",
    "    print(f\"- Number of pages to be crawled : {page_number}\")\n",
    "    # Parcourir chaque page\n",
    "    for page in range(1, page_number + 1):\n",
    "        driver.get(\n",
    "            f\"https://www.welcometothejungle.com/fr/jobs?query={job}&page={page}\"\n",
    "            f\"&aroundQuery={city}%2C%20France&aroundRadius=20000\"\n",
    "        )\n",
    "        time.sleep(6)\n",
    "\n",
    "except Exception as e:\n",
    "    print(f\"Une erreur s'est produite: {e}\")\n",
    "finally:\n",
    "    driver.quit()\n"
   ]
  },
  {
   "cell_type": "code",
   "execution_count": 124,
   "metadata": {},
   "outputs": [],
   "source": [
    "time.sleep(randint(5, 12))"
   ]
  },
  {
   "cell_type": "markdown",
   "metadata": {},
   "source": [
    "### Nom de l'annonce"
   ]
  },
  {
   "cell_type": "code",
   "execution_count": 69,
   "metadata": {},
   "outputs": [],
   "source": [
    "try:\n",
    "    driver = webdriver.Chrome(service=service, options=opts)\n",
    "    driver.get(path)\n",
    "    # Name\n",
    "    annonce_name = WebDriverWait(driver, 10).until(\n",
    "        EC.presence_of_all_elements_located((By.CSS_SELECTOR, \"div[class='sc-bXCLTC vm8xc2-0 cVbuZq']\"))\n",
    "    )\n",
    "    annonce_names = [annonce.text for annonce in annonce_name]\n",
    "\n",
    "except Exception as e:\n",
    "    print(f\"Une erreur s'est produite: {e}\")\n",
    "finally:\n",
    "    driver.quit()\n"
   ]
  },
  {
   "cell_type": "markdown",
   "metadata": {},
   "source": [
    "### L'entreprise de l'annonce"
   ]
  },
  {
   "cell_type": "code",
   "execution_count": 70,
   "metadata": {},
   "outputs": [
    {
     "name": "stdout",
     "output_type": "stream",
     "text": [
      "annonce_entreprise : CIVILS DE LA DÉFENSE - MINISTÈRE DES ARMÉES\n"
     ]
    }
   ],
   "source": [
    "try:\n",
    "    driver = webdriver.Chrome(service=service, options=opts) \n",
    "    driver.get(path)\n",
    "    # Entreprise\n",
    "    annonce_entreprise = WebDriverWait(driver, 10).until(\n",
    "        EC.presence_of_element_located((By.CSS_SELECTOR, \"span[class='sc-dNsVcS dJRzbE sc-1gjh7r6-2 bGtjEE wui-text']\"))\n",
    "    )\n",
    "    print(f'annonce_entreprise : {annonce_entreprise.text}')\n",
    "except Exception as e:\n",
    "    print(f\"Une erreur s'est produite: {e}\")\n",
    "finally:\n",
    "    driver.quit()\n"
   ]
  },
  {
   "cell_type": "markdown",
   "metadata": {},
   "source": [
    "### Type du job: CDI, CDD, Stage"
   ]
  },
  {
   "cell_type": "code",
   "execution_count": null,
   "metadata": {},
   "outputs": [
    {
     "name": "stdout",
     "output_type": "stream",
     "text": [
      "Annonce 1: CDD / Temporaire\n",
      "Annonce 2: Stage\n",
      "Annonce 3: Stage | ≥ 1,2K € par mois\n",
      "Annonce 4: CDI | Télétravail fréquent\n",
      "Annonce 5: CDI | Télétravail fréquent\n",
      "Annonce 6: Stage | Télétravail fréquent\n",
      "Annonce 7: Stage | Télétravail fréquent\n",
      "Annonce 8: CDI\n",
      "Annonce 9: Stage\n",
      "Annonce 10: Stage | Télétravail fréquent | 1K € par mois\n",
      "Annonce 11: Stage | Télétravail fréquent\n",
      "Annonce 12: CDI\n",
      "Annonce 13: CDI | Télétravail fréquent\n",
      "Annonce 14: Stage\n",
      "Annonce 15: Stage | Télétravail fréquent\n",
      "Annonce 16: CDI | Télétravail fréquent\n",
      "Annonce 17: CDI | 38K à 50K €\n",
      "Annonce 18: CDD / Temporaire | Télétravail fréquent\n",
      "Annonce 19: Stage\n",
      "Annonce 20: Stage\n",
      "Annonce 21: Stage | 1,5K à 1,7K € par mois\n",
      "Annonce 22: CDI | Télétravail fréquent\n",
      "Annonce 23: CDI | Télétravail fréquent\n",
      "Annonce 24: CDI\n",
      "Annonce 25: Stage | Télétravail fréquent\n",
      "Annonce 26: CDI | 38K à 42K €\n",
      "Annonce 27: CDI\n",
      "Annonce 28: Stage\n",
      "Annonce 29: CDI | Télétravail fréquent | 50K à 70K €\n",
      "Annonce 30: CDI\n",
      "Annonce 31: Stage | Télétravail fréquent\n"
     ]
    }
   ],
   "source": [
    "try: \n",
    "    driver = webdriver.Chrome(service=service, options=opts) \n",
    "    driver.get(path)\n",
    "    # Stage Cdi\n",
    "    annonces = WebDriverWait(driver, 10).until(\n",
    "        EC.presence_of_all_elements_located((By.CSS_SELECTOR, \"div[class='sc-bXCLTC eFiCOk']\"))\n",
    "    )    \n",
    "    for index, annonce in enumerate(annonces, start=1):\n",
    "        types_elements = annonce.find_elements(By.CSS_SELECTOR, \"div[class='sc-fKWMtX bGOCwu'] > span\")\n",
    "        types_text = \" | \".join([el.text for el in types_elements])  # Combiner les textes des `span`\n",
    "        \n",
    "        # Afficher le résultat pour cette annonce\n",
    "        print(f\"Annonce {index}: {types_text}\")\n",
    "except Exception as e:\n",
    "    print(f\"Une erreur s'est produite: {e}\")\n",
    "finally:\n",
    "    driver.quit()\n"
   ]
  },
  {
   "cell_type": "markdown",
   "metadata": {},
   "source": [
    "### Adresse de l'annonce"
   ]
  },
  {
   "cell_type": "code",
   "execution_count": 122,
   "metadata": {},
   "outputs": [
    {
     "name": "stdout",
     "output_type": "stream",
     "text": [
      "annonce_place : Paris\n",
      "annonce_place : Paris\n",
      "annonce_place : Paris\n",
      "annonce_place : Paris\n",
      "annonce_place : Paris\n",
      "annonce_place : Paris\n",
      "annonce_place : Puteaux\n",
      "annonce_place : Paris\n",
      "annonce_place : Grenoble\n",
      "annonce_place : Rennes\n",
      "annonce_place : Paris\n",
      "annonce_place : Paris\n",
      "annonce_place : Grenoble\n",
      "annonce_place : Paris\n",
      "annonce_place : Paris\n",
      "annonce_place : Paris · Lyon · Strasbourg…\n",
      "annonce_place : Puteaux\n",
      "annonce_place : Montrouge\n",
      "annonce_place : Puteaux\n",
      "annonce_place : Paris\n",
      "annonce_place : Paris · Vernon\n",
      "annonce_place : Paris\n",
      "annonce_place : Paris\n",
      "annonce_place : Paris\n",
      "annonce_place : Rueil-Malmaison\n",
      "annonce_place : Paris\n",
      "annonce_place : Le Kremlin-Bicêtre\n",
      "annonce_place : Meudon\n",
      "annonce_place : Paris\n",
      "annonce_place : Paris\n",
      "annonce_place : Puteaux\n"
     ]
    }
   ],
   "source": [
    "try: \n",
    "    driver = webdriver.Chrome(service=service, options=opts) \n",
    "    driver.get(path)\n",
    "    # Endroit\n",
    "    annonce_places = WebDriverWait(driver, 10).until(\n",
    "        EC.presence_of_all_elements_located((By.CSS_SELECTOR, \"span[class='ia1bpn-0 gQrSEd']\"))\n",
    "    )\n",
    "    for annonce_place in annonce_places:\n",
    "        print(f'annonce_place : {annonce_place.text}')\n",
    "except Exception as e:\n",
    "    print(f\"Une erreur s'est produite: {e}\")\n",
    "finally:\n",
    "    driver.quit()\n"
   ]
  },
  {
   "cell_type": "markdown",
   "metadata": {},
   "source": [
    "### date de l'annonce"
   ]
  },
  {
   "cell_type": "markdown",
   "metadata": {},
   "source": [
    "Pour une annonce"
   ]
  },
  {
   "cell_type": "code",
   "execution_count": 117,
   "metadata": {},
   "outputs": [
    {
     "name": "stdout",
     "output_type": "stream",
     "text": [
      "Annonce date time: 2024-12-03T16:33:00Z\n"
     ]
    }
   ],
   "source": [
    "try: \n",
    "    driver = webdriver.Chrome(service=service, options=opts) \n",
    "    driver.get(path)\n",
    "    # date\n",
    "    annonce_date = WebDriverWait(driver, 10).until(\n",
    "        EC.presence_of_element_located((By.CSS_SELECTOR, \"div[class='sc-bXCLTC fYUqim'] time\"))\n",
    "    )\n",
    "    datetime_value = annonce_date.get_attribute(\"datetime\")  \n",
    "\n",
    "    print(f\"Annonce date time: {datetime_value}\")\n",
    "\n",
    "except Exception as e:\n",
    "    print(f\"Une erreur s'est produite: {e}\")\n",
    "finally:\n",
    "    driver.quit()\n"
   ]
  },
  {
   "cell_type": "markdown",
   "metadata": {},
   "source": [
    "Pour toutes les annonces"
   ]
  },
  {
   "cell_type": "code",
   "execution_count": 121,
   "metadata": {},
   "outputs": [
    {
     "name": "stdout",
     "output_type": "stream",
     "text": [
      "Annonce 1: 2024-12-03T16:33:00Z\n",
      "Annonce 2: 2024-12-03T11:27:07Z\n",
      "Annonce 3: 2024-12-03T01:08:38Z\n",
      "Annonce 4: 2024-12-03T01:07:24Z\n",
      "Annonce 5: 2024-12-03T00:37:00Z\n",
      "Annonce 6: 2024-12-03T00:36:57Z\n",
      "Annonce 7: 2024-12-03T16:37:36Z\n",
      "Annonce 8: 2024-12-03T11:20:39Z\n",
      "Annonce 9: 2024-12-03T11:22:13Z\n",
      "Annonce 10: 2024-12-03T14:36:34Z\n",
      "Annonce 11: 2024-12-03T17:28:12Z\n",
      "Annonce 12: 2024-12-03T14:27:42Z\n",
      "Annonce 13: 2024-12-03T14:19:03Z\n",
      "Annonce 14: 2024-12-02T18:03:37Z\n",
      "Annonce 15: 2024-12-02T14:52:27Z\n",
      "Annonce 16: 2024-12-02T14:32:16Z\n",
      "Annonce 17: 2024-12-02T13:07:44Z\n",
      "Annonce 18: 2024-12-02T10:04:50Z\n",
      "Annonce 19: 2024-12-02T16:17:04Z\n",
      "Annonce 20: 2024-12-02T09:52:31Z\n",
      "Annonce 21: 2024-12-02T08:56:44Z\n",
      "Annonce 22: 2024-12-02T08:56:41Z\n",
      "Annonce 23: 2024-12-02T08:56:33Z\n",
      "Annonce 24: 2024-12-02T08:08:31Z\n",
      "Annonce 25: 2024-12-02T10:41:22Z\n",
      "Annonce 26: 2024-12-01T00:05:12Z\n",
      "Annonce 27: 2024-11-30T01:32:46Z\n",
      "Annonce 28: 2024-11-30T00:46:02Z\n",
      "Annonce 29: 2024-11-30T00:12:15Z\n",
      "Annonce 30: 2024-11-29T00:39:33Z\n"
     ]
    }
   ],
   "source": [
    "try: \n",
    "    driver = webdriver.Chrome(service=service, options=opts) \n",
    "    driver.get(path)\n",
    "    # date\n",
    "    annonce_date = WebDriverWait(driver, 10).until(\n",
    "        EC.presence_of_all_elements_located((By.CSS_SELECTOR, \"div[class='sc-bXCLTC fYUqim'] time\"))\n",
    "    )\n",
    "    datetime_values = [date.get_attribute(\"datetime\") for date in annonce_date]\n",
    "\n",
    "    for index, datetime in enumerate(datetime_values, start=1):\n",
    "\n",
    "        print(f\"Annonce {index}: {datetime}\")\n",
    "\n",
    "except Exception as e:\n",
    "    print(f\"Une erreur s'est produite: {e}\")\n",
    "finally:\n",
    "    driver.quit()\n"
   ]
  },
  {
   "cell_type": "markdown",
   "metadata": {},
   "source": [
    "### Entering each annonce and getting description"
   ]
  },
  {
   "cell_type": "code",
   "execution_count": null,
   "metadata": {},
   "outputs": [],
   "source": [
    "try: \n",
    "    driver = webdriver.Chrome(service=service, options=opts) \n",
    "    driver.get(path)\n",
    "    # date\n",
    "    annonce_date = WebDriverWait(driver, 10).until(\n",
    "        EC.presence_of_all_elements_located((By.CSS_SELECTOR, \"div[class='sc-bXCLTC fYUqim'] time\"))\n",
    "    )\n",
    "    datetime_values = [date.get_attribute(\"datetime\") for date in annonce_date]\n",
    "\n",
    "    for index, datetime in enumerate(datetime_values, start=1):\n",
    "\n",
    "        print(f\"Annonce {index}: {datetime}\")\n",
    "\n",
    "except Exception as e:\n",
    "    print(f\"Une erreur s'est produite: {e}\")\n",
    "finally:\n",
    "    driver.quit()\n"
   ]
  },
  {
   "cell_type": "code",
   "execution_count": null,
   "metadata": {},
   "outputs": [
    {
     "name": "stdout",
     "output_type": "stream",
     "text": [
      "job_title: Descriptif du poste\n",
      "job_descriptif: Descriptif de l’organisation\n",
      "\n",
      "Au sein du secrétariat général pour l’administration (SGA) du ministère des armées, la délégation à la transformation et à la performance ministérielles (DTPM) créée au 1er janvier 2020 est une direction d’administration centrale ministérielle dédiée à l’accompagnement et à l’accélération de la transformation numérique, organisationnelle et managériale de l’action publique.\n",
      "Le Centre d’expertise de données et d’intelligence artificielle (CEDIA) est chargé de répondre aux exigences croissantes en matière d’exploitation des données et de développement d’outils IA à l’échelle du SGA.\n",
      "Le Data scientist intègrera l’équipe du CEDIA chargée de définir et de piloter la mise en œuvre des outils d’analyse, de traitement et de croisement des données massives. Il apporte une expertise scientifique en matière de modélisation et d’IA et identifie les cas d’usage utiles à la valorisation de la donnée d’intérêt militaire et administrative.\n",
      "\n",
      "\n",
      "\n",
      ", le Data scientist identifie des axes d’innovation en relation avec les équipes opérationnelles, définit les besoins, explore les données et propose des solutions pour mieux les exploiter. Il est force de proposition sur la conception et l’implémentation de systèmes distribués de traitements et de stockage de données massives. Familier d’un large champ de thématiques, des architectures d’intégration continues aux bases données distribuées, à la conteneurisation et au passage à l’échelle de micro-services, il évalue des technologies dans le domaine du big data et de l’intelligence artificielle. Il anime la relation avec les entités pour lesquelles il développe des solutions.\n",
      "job_descriptif: \n",
      "No job_experience\n"
     ]
    }
   ],
   "source": [
    "try:\n",
    "    driver = webdriver.Chrome(service=service)\n",
    "    driver.get(path)\n",
    "    # Name\n",
    "    annonce_name = WebDriverWait(driver, 10).until(\n",
    "        EC.presence_of_element_located((By.CSS_SELECTOR, \"div[class='sc-bXCLTC gmdUeC sc-ffZAAA sc-1gjh7r6-8 jVBfxG NcCmA']\"))\n",
    "    )\n",
    "    annonce_name.click()\n",
    "    # Experience recherché \n",
    "    try:\n",
    "        job_description = WebDriverWait(driver,10).until(\n",
    "            EC.presence_of_element_located((By.CSS_SELECTOR,\"div[data-testid='job-section-description']\"))\n",
    "        )\n",
    "        job_title = job_description.find_element(By.TAG_NAME,'span')\n",
    "        print('job_title:', job_title.text)\n",
    "        job_descriptifs = job_description.find_elements(By.TAG_NAME, 'p')\n",
    "        for job_descriptif in job_descriptifs:\n",
    "            print('job_descriptif:', job_descriptif.text)\n",
    "    except Exception as e:\n",
    "        print('no job description')\n",
    "\n",
    "    # Experience recherché \n",
    "    time.sleep(3)\n",
    "    try:\n",
    "        job_experience = WebDriverWait(driver,10).until(\n",
    "            EC.presence_of_element_located((By.CSS_SELECTOR,\"div[data-testid='job-section-experience']\"))\n",
    "        )\n",
    "        if job_experience.is_displayed():\n",
    "            print('test')\n",
    "\n",
    "    except Exception as e:\n",
    "        print(\"No job_experience\")\n",
    "\n",
    "except Exception as e:\n",
    "    print(f\"Une erreur s'est produite: {e}\")\n",
    "finally:\n",
    "    driver.quit()\n"
   ]
  }
 ],
 "metadata": {
  "kernelspec": {
   "display_name": "jobtracker",
   "language": "python",
   "name": "python3"
  },
  "language_info": {
   "codemirror_mode": {
    "name": "ipython",
    "version": 3
   },
   "file_extension": ".py",
   "mimetype": "text/x-python",
   "name": "python",
   "nbconvert_exporter": "python",
   "pygments_lexer": "ipython3",
   "version": "3.8.20"
  }
 },
 "nbformat": 4,
 "nbformat_minor": 2
}
